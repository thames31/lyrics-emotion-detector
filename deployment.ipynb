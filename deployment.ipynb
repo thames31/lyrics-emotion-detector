{
 "cells": [
  {
   "cell_type": "code",
   "execution_count": 1,
   "metadata": {},
   "outputs": [
    {
     "name": "stdout",
     "output_type": "stream",
     "text": [
      "Overwriting song_recommender.py\n"
     ]
    }
   ],
   "source": [
    "%%writefile song_recommender.py\n",
    "from flask import Flask, render_template, request, redirect, url_for\n",
    "from functions import *\n",
    "\n",
    "app = Flask(__name__, template_folder='template')\n",
    "\n",
    "distance = pd.read_csv('data/distances.csv')\n",
    "\n",
    "@app.route('/')\n",
    "def home():\n",
    "    return render_template('index.html')\n",
    "\n",
    "@app.route('/', methods=['POST','GET'])\n",
    "def get_input():\n",
    "    if request.method == 'POST':\n",
    "        song = request.form['song_name']\n",
    "        artist = request.form['artist_name']\n",
    "        return redirect(url_for('recommend', name = song, artist_name = artist))\n",
    "\n",
    "@app.route('/recommend/<artist_name>/<name>')\n",
    "def recommend(name, artist_name):\n",
    "    \n",
    "    links = recommend_songs(name, artist_name, distance)\n",
    "\n",
    "    return(render_template('recommend.html', input=name,\n",
    "                        link1=links[0],\n",
    "                        link2=links[1],\n",
    "                        link3=links[2],\n",
    "                        link4=links[3],\n",
    "                        link5=links[4])\n",
    ") \n",
    "\n",
    "if __name__ == \"__main__\":\n",
    "    app.run(debug=True,port=8080)"
   ]
  },
  {
   "cell_type": "code",
   "execution_count": null,
   "metadata": {},
   "outputs": [],
   "source": []
  }
 ],
 "metadata": {
  "kernelspec": {
   "display_name": "Python 3.10.8 64-bit (microsoft store)",
   "language": "python",
   "name": "python3"
  },
  "language_info": {
   "codemirror_mode": {
    "name": "ipython",
    "version": 3
   },
   "file_extension": ".py",
   "mimetype": "text/x-python",
   "name": "python",
   "nbconvert_exporter": "python",
   "pygments_lexer": "ipython3",
   "version": "3.10.8"
  },
  "orig_nbformat": 4,
  "vscode": {
   "interpreter": {
    "hash": "6ebbaaaad0403b1e30b31b9c90b68c74e10938e4d7b8e7dbde59638ef507ecdd"
   }
  }
 },
 "nbformat": 4,
 "nbformat_minor": 2
}

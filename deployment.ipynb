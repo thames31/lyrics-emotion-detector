{
 "cells": [
  {
   "cell_type": "code",
   "execution_count": 11,
   "metadata": {},
   "outputs": [
    {
     "name": "stdout",
     "output_type": "stream",
     "text": [
      "Overwriting song_recommender.py\n"
     ]
    }
   ],
   "source": [
    "%%writefile song_recommender.py\n",
    "from flask import Flask, render_template, request, redirect, url_for\n",
    "import pandas as pd\n",
    "\n",
    "app = Flask(__name__, template_folder='template')\n",
    "\n",
    "en_songs = pd.read_csv('data/en_songs3.csv')\n",
    "distance = pd.read_csv('data/distances.csv')\n",
    "\n",
    "@app.route('/')\n",
    "def home():\n",
    "    return render_template('index.html')\n",
    "\n",
    "@app.route('/', methods=['POST','GET'])\n",
    "def get_input():\n",
    "    if request.method == 'POST':\n",
    "        song = request.form['song_name']\n",
    "        return redirect(url_for('recommend', name=song))\n",
    "\n",
    "@app.route('/recommend/<name>')\n",
    "def recommend(name):\n",
    "    \n",
    "    links = []\n",
    "    \n",
    "    inpt_song = name\n",
    "    \n",
    "    dl = distance.sort_values(by=inpt_song)\n",
    "    \n",
    "    idx = list(dl.head(5).index)\n",
    "    song_names = list(en_songs.iloc[idx]['track_name'])\n",
    "    song_artists = list(en_songs.iloc[idx]['track_artist'])\n",
    "    ids = list(dl.head(5).id)\n",
    "    \n",
    "    for id in ids:\n",
    "        link = \"https://open.spotify.com/embed/track/\" + id\n",
    "        links.append(link)\n",
    "    \n",
    "    return(render_template('recommend.html', input=name,\n",
    "                        link1=links[0], song1=song_names[0], artist1=song_artists[0],\n",
    "                        link2=links[1], song2=song_names[1], artist2=song_artists[1],\n",
    "                        link3=links[2], song3=song_names[2], artist3=song_artists[2],\n",
    "                        link4=links[3], song4=song_names[3], artist4=song_artists[3],\n",
    "                        link5=links[4], song5=song_names[4], artist5=song_artists[4])\n",
    ") \n",
    "\n",
    "if __name__ == \"__main__\":\n",
    "    app.run(debug=True,port=8080)"
   ]
  }
 ],
 "metadata": {
  "kernelspec": {
   "display_name": "Python 3.10.8 64-bit (microsoft store)",
   "language": "python",
   "name": "python3"
  },
  "language_info": {
   "codemirror_mode": {
    "name": "ipython",
    "version": 3
   },
   "file_extension": ".py",
   "mimetype": "text/x-python",
   "name": "python",
   "nbconvert_exporter": "python",
   "pygments_lexer": "ipython3",
   "version": "3.10.8"
  },
  "orig_nbformat": 4,
  "vscode": {
   "interpreter": {
    "hash": "6ebbaaaad0403b1e30b31b9c90b68c74e10938e4d7b8e7dbde59638ef507ecdd"
   }
  }
 },
 "nbformat": 4,
 "nbformat_minor": 2
}

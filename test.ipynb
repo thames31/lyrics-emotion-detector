{
 "cells": [
  {
   "cell_type": "code",
   "execution_count": 6,
   "metadata": {},
   "outputs": [],
   "source": [
    "from functions import *"
   ]
  },
  {
   "cell_type": "code",
   "execution_count": 2,
   "metadata": {},
   "outputs": [],
   "source": [
    "en_songs = pd.read_csv('data/en_songs3.csv')"
   ]
  },
  {
   "cell_type": "code",
   "execution_count": 5,
   "metadata": {},
   "outputs": [],
   "source": [
    "distances = pd.read_csv('data/distances.csv')"
   ]
  },
  {
   "cell_type": "code",
   "execution_count": 3,
   "metadata": {},
   "outputs": [],
   "source": [
    "artist = 'Steady Rollin'\n",
    "song = 'I Feel Alive'"
   ]
  },
  {
   "cell_type": "code",
   "execution_count": 16,
   "metadata": {},
   "outputs": [],
   "source": [
    "def recommend(song_name, artist, df):\n",
    "    \n",
    "    artistnsong = artist + \" \" + song_name\n",
    "\n",
    "    dl = df.sort_values(by=artistnsong)\n",
    "    \n",
    "    ids = list(dl.head(5).id)\n",
    "    links = []\n",
    "    \n",
    "    for id in ids:\n",
    "        link = \"https://open.spotify.com/embed/track/\" + id + \"?utm_source=generator\"\n",
    "        links.append(link)\n",
    "    \n",
    "    return links\n"
   ]
  },
  {
   "cell_type": "code",
   "execution_count": 17,
   "metadata": {},
   "outputs": [
    {
     "data": {
      "text/plain": [
       "['https://open.spotify.com/embed/track/385Urz8Qa8CIcK9tl3SA8g?utm_source=generator',\n",
       " 'https://open.spotify.com/embed/track/7ATyLePQnHxFk5kzxWCcsh?utm_source=generator',\n",
       " 'https://open.spotify.com/embed/track/7c8vaoaPChZNEFEPWoAQ4i?utm_source=generator',\n",
       " 'https://open.spotify.com/embed/track/4GetBW8bJ8lB2Y9ugFb30p?utm_source=generator',\n",
       " 'https://open.spotify.com/embed/track/2pAUx2a1F5JCaVgytQm8fI?utm_source=generator']"
      ]
     },
     "execution_count": 17,
     "metadata": {},
     "output_type": "execute_result"
    }
   ],
   "source": [
    "recommend(song, artist, distances)"
   ]
  },
  {
   "cell_type": "code",
   "execution_count": null,
   "metadata": {},
   "outputs": [],
   "source": []
  }
 ],
 "metadata": {
  "kernelspec": {
   "display_name": "Python 3.10.8 64-bit (microsoft store)",
   "language": "python",
   "name": "python3"
  },
  "language_info": {
   "codemirror_mode": {
    "name": "ipython",
    "version": 3
   },
   "file_extension": ".py",
   "mimetype": "text/x-python",
   "name": "python",
   "nbconvert_exporter": "python",
   "pygments_lexer": "ipython3",
   "version": "3.10.8"
  },
  "orig_nbformat": 4,
  "vscode": {
   "interpreter": {
    "hash": "6ebbaaaad0403b1e30b31b9c90b68c74e10938e4d7b8e7dbde59638ef507ecdd"
   }
  }
 },
 "nbformat": 4,
 "nbformat_minor": 2
}
